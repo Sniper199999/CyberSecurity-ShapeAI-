{
  "nbformat": 4,
  "nbformat_minor": 0,
  "metadata": {
    "colab": {
      "name": "Shubham_Kini_(CyberSecurity).ipynb",
      "provenance": []
    },
    "kernelspec": {
      "name": "python3",
      "display_name": "Python 3"
    },
    "language_info": {
      "name": "python"
    }
  },
  "cells": [
    {
      "cell_type": "code",
      "metadata": {
        "colab": {
          "base_uri": "https://localhost:8080/"
        },
        "id": "N-awpU1m8BYc",
        "outputId": "b781ee44-3e40-451e-90a9-5be807faafe0"
      },
      "source": [
        "import requests\n",
        "from datetime import datetime\n",
        "\n",
        "api_key='0e718d7c02796dc27a4f2d4c1210d75a'\n",
        "location=input(\"Enter the city name: \")\n",
        "\n",
        "complete_api_link = \"http://api.openweathermap.org/data/2.5/weather?q=\"+location+\"&appid=\"+api_key\n",
        "api_link=requests.get(complete_api_link)\n",
        "api_data=api_link.json()\n",
        "\n",
        "temp_city=((api_data['main']['temp']) - 273.15)\n",
        "weather_desc=api_data['weather'][0]['description']\n",
        "hmdt=api_data['main']['humidity']\n",
        "wind_spd=api_data['wind']['speed']\n",
        "date_time=datetime.now().strftime(\"%d %b %Y | %I:%M:%s %p\")\n",
        "\n",
        "sourceFile = open('output.txt', 'w')\n",
        "\n",
        "\n",
        "print(\"------------------------------------------------\", file = sourceFile)\n",
        "print(\"Weather Starts for - {} || {}\".format(location.upper(),date_time), file = sourceFile)\n",
        "print(\"------------------------------------------------\", file = sourceFile)\n",
        "\n",
        "\n",
        "print(\"Current temperature is {:.2f} deg C\".format(temp_city), file = sourceFile)\n",
        "print(\"Current weather desc   :\",weather_desc, file = sourceFile)\n",
        "print(\"Current Humidity  :\", hmdt,'%', file = sourceFile)\n",
        "print(\"Current wind speed  :\",wind_spd,'kmph', file = sourceFile)\n",
        "\n",
        "\n",
        "sourceFile.close()"
      ],
      "execution_count": 7,
      "outputs": [
        {
          "output_type": "stream",
          "text": [
            "Enter the city name: Mumbai\n"
          ],
          "name": "stdout"
        }
      ]
    }
  ]
}