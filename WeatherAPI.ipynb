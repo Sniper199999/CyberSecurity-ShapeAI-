{
  "nbformat": 4,
  "nbformat_minor": 0,
  "metadata": {
    "colab": {
      "name": "Shubham_Kini_(CyberSecurity).ipynb",
      "provenance": [],
      "toc_visible": true
    },
    "kernelspec": {
      "name": "python3",
      "display_name": "Python 3"
    },
    "language_info": {
      "name": "python"
    }
  },
  "cells": [
    {
      "cell_type": "code",
      "metadata": {
        "colab": {
          "base_uri": "https://localhost:8080/"
        },
        "id": "N-awpU1m8BYc",
        "outputId": "b2cbc17a-6605-4d96-93e2-fe789675608c"
      },
      "source": [
        "import requests\n",
        "from datetime import datetime\n",
        "\n",
        "api_key='0e718d7c02796dc27a4f2d4c1210d75a'\n",
        "location=input(\"Enter the city name: \")\n",
        "\n",
        "complete_api_link = \"http://api.openweathermap.org/data/2.5/weather?q=\"+location+\"&appid=\"+api_key\n",
        "api_link=requests.get(complete_api_link)\n",
        "api_data=api_link.json()\n",
        "\n",
        "temp_city=((api_data['main']['temp']) - 273.15)\n",
        "weather_desc=api_data['weather'][0]['description']\n",
        "hmdt=api_data['main']['humidity']\n",
        "wind_spd=api_data['wind']['speed']\n",
        "date_time=datetime.now().strftime(\"%d %b %Y | %I:%M:%s %p\")\n",
        "\n",
        "print (\"-------------------------------------------------------------\")\n",
        "print (\"Weather Stats for - {}  || {}\".format(location.upper(), date_time))\n",
        "print (\"-------------------------------------------------------------\")\n",
        "print (\"Current temperature is: {:.2f} deg C\".format(temp_city))\n",
        "print (\"Current weather desc  :\",weather_desc)\n",
        "print (\"Current Humidity      :\",hmdt, '%')\n",
        "print (\"Current wind speed    :\",wind_spd ,'kmph')\n",
        "\n",
        "with open('info.txt','w')as f:\n",
        "    f.write(\"-------------------------------------------------------------\"+\"\\n\"\n",
        "     \"Weather Stats for - {}  || {}\".format(location.upper(), date_time)+\"\\n\"\n",
        "      \"-------------------------------------------------------------\"\"\\n\"\n",
        "      \"Current temperature is: {:.2f} deg C\" .format(temp_city) +\"\\n\"\n",
        "      \"Current weather desc  :\" +weather_desc+\"\\n\"\n",
        "      \"Current Humidity      :\" +str(hmdt)+\"%\"\"\\n\"\n",
        "      \"Current wind speed    :\"+str(wind_spd)+ \"kmph\")\n",
        "    \n",
        "sourceFile.close()"
      ],
      "execution_count": 13,
      "outputs": [
        {
          "output_type": "stream",
          "text": [
            "Enter the city name: Mumbai\n",
            "-------------------------------------------------------------\n",
            "Weather Stats for - MUMBAI  || 23 Jun 2021 | 01:18:1624454306 PM\n",
            "-------------------------------------------------------------\n",
            "Current temperature is: 30.99 deg C\n",
            "Current weather desc  : haze\n",
            "Current Humidity      : 74 %\n",
            "Current wind speed    : 5.66 kmph\n"
          ],
          "name": "stdout"
        }
      ]
    }
  ]
}